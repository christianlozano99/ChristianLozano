{
  "nbformat": 4,
  "nbformat_minor": 0,
  "metadata": {
    "colab": {
      "name": "Assignment 2.ipynb",
      "provenance": [],
      "collapsed_sections": [],
      "authorship_tag": "ABX9TyO0PSMCEmnJ3H2jvTzfbAmZ",
      "include_colab_link": true
    },
    "kernelspec": {
      "name": "python3",
      "display_name": "Python 3"
    }
  },
  "cells": [
    {
      "cell_type": "markdown",
      "metadata": {
        "id": "view-in-github",
        "colab_type": "text"
      },
      "source": [
        "<a href=\"https://colab.research.google.com/github/christianlozano99/ChristianLozano/blob/master/KNN_WineQualityPredictor.ipynb\" target=\"_parent\"><img src=\"https://colab.research.google.com/assets/colab-badge.svg\" alt=\"Open In Colab\"/></a>"
      ]
    },
    {
      "cell_type": "markdown",
      "metadata": {
        "id": "F6oYcPtO-sh7"
      },
      "source": [
        "#### **Christian Lozano Assigment 2 Spring 2021**\n"
      ]
    },
    {
      "cell_type": "markdown",
      "metadata": {
        "id": "ANxvxpF2RXkh"
      },
      "source": [
        "### **Load in data from CSV Files**\n",
        "\n",
        "\n",
        "*   Load CSV file sfor testing and training\n",
        "*   Import some basic libraies such as pandas and numpy\n",
        "\n"
      ]
    },
    {
      "cell_type": "markdown",
      "metadata": {
        "id": "09KDC2IzQnjz"
      },
      "source": [
        "**Fufilled Requiments on this cell:**\n",
        "1. You must load the data from provided CSV files"
      ]
    },
    {
      "cell_type": "code",
      "metadata": {
        "id": "cKdCuTq1-gWu",
        "colab": {
          "base_uri": "https://localhost:8080/",
          "height": 419
        },
        "outputId": "fcc736f7-8cef-4964-ac4a-e08259878b6e"
      },
      "source": [
        "import numpy as np \n",
        "import pandas as pd\n",
        "import pylab as plt\n",
        "import seaborn as sns\n",
        "from sklearn.metrics import f1_score, accuracy_score, roc_auc_score\n",
        "from sklearn.neighbors import KNeighborsClassifier\n",
        "from sklearn.metrics import classification_report\n",
        "from sklearn.metrics import r2_score\n",
        "from sklearn.model_selection import GridSearchCV,cross_val_score\n",
        "from sklearn.pipeline import make_pipeline\n",
        "from sklearn.pipeline import Pipeline\n",
        "from sklearn import preprocessing\n",
        "from sklearn.model_selection import train_test_split\n",
        "from sklearn.preprocessing import StandardScaler\n",
        "from sklearn import neighbors\n",
        "from sklearn import decomposition\n",
        "\n",
        "\n",
        "testDF = pd.read_csv('test.csv')\n",
        "trainDF = pd.read_csv('train.csv')\n",
        "trainDF"
      ],
      "execution_count": null,
      "outputs": [
        {
          "output_type": "execute_result",
          "data": {
            "text/html": [
              "<div>\n",
              "<style scoped>\n",
              "    .dataframe tbody tr th:only-of-type {\n",
              "        vertical-align: middle;\n",
              "    }\n",
              "\n",
              "    .dataframe tbody tr th {\n",
              "        vertical-align: top;\n",
              "    }\n",
              "\n",
              "    .dataframe thead th {\n",
              "        text-align: right;\n",
              "    }\n",
              "</style>\n",
              "<table border=\"1\" class=\"dataframe\">\n",
              "  <thead>\n",
              "    <tr style=\"text-align: right;\">\n",
              "      <th></th>\n",
              "      <th>id</th>\n",
              "      <th>fixed acidity</th>\n",
              "      <th>volatile acidity</th>\n",
              "      <th>citric acid</th>\n",
              "      <th>residual sugar</th>\n",
              "      <th>chlorides</th>\n",
              "      <th>free sulfur dioxide</th>\n",
              "      <th>total sulfur dioxide</th>\n",
              "      <th>density</th>\n",
              "      <th>pH</th>\n",
              "      <th>sulphates</th>\n",
              "      <th>alcohol</th>\n",
              "      <th>quality</th>\n",
              "    </tr>\n",
              "  </thead>\n",
              "  <tbody>\n",
              "    <tr>\n",
              "      <th>0</th>\n",
              "      <td>0</td>\n",
              "      <td>8.5</td>\n",
              "      <td>0.40</td>\n",
              "      <td>0.40</td>\n",
              "      <td>6.3</td>\n",
              "      <td>0.050</td>\n",
              "      <td>3.0</td>\n",
              "      <td>10.0</td>\n",
              "      <td>0.99566</td>\n",
              "      <td>3.28</td>\n",
              "      <td>0.56</td>\n",
              "      <td>12.0</td>\n",
              "      <td>0</td>\n",
              "    </tr>\n",
              "    <tr>\n",
              "      <th>1</th>\n",
              "      <td>1</td>\n",
              "      <td>11.5</td>\n",
              "      <td>0.18</td>\n",
              "      <td>0.51</td>\n",
              "      <td>4.0</td>\n",
              "      <td>0.104</td>\n",
              "      <td>4.0</td>\n",
              "      <td>23.0</td>\n",
              "      <td>0.99960</td>\n",
              "      <td>3.28</td>\n",
              "      <td>0.97</td>\n",
              "      <td>10.1</td>\n",
              "      <td>1</td>\n",
              "    </tr>\n",
              "    <tr>\n",
              "      <th>2</th>\n",
              "      <td>2</td>\n",
              "      <td>8.2</td>\n",
              "      <td>0.34</td>\n",
              "      <td>0.37</td>\n",
              "      <td>1.9</td>\n",
              "      <td>0.057</td>\n",
              "      <td>43.0</td>\n",
              "      <td>74.0</td>\n",
              "      <td>0.99408</td>\n",
              "      <td>3.23</td>\n",
              "      <td>0.81</td>\n",
              "      <td>12.0</td>\n",
              "      <td>1</td>\n",
              "    </tr>\n",
              "    <tr>\n",
              "      <th>3</th>\n",
              "      <td>3</td>\n",
              "      <td>10.7</td>\n",
              "      <td>0.43</td>\n",
              "      <td>0.39</td>\n",
              "      <td>2.2</td>\n",
              "      <td>0.106</td>\n",
              "      <td>8.0</td>\n",
              "      <td>32.0</td>\n",
              "      <td>0.99860</td>\n",
              "      <td>2.89</td>\n",
              "      <td>0.50</td>\n",
              "      <td>9.6</td>\n",
              "      <td>0</td>\n",
              "    </tr>\n",
              "    <tr>\n",
              "      <th>4</th>\n",
              "      <td>4</td>\n",
              "      <td>7.6</td>\n",
              "      <td>0.42</td>\n",
              "      <td>0.25</td>\n",
              "      <td>3.9</td>\n",
              "      <td>0.104</td>\n",
              "      <td>28.0</td>\n",
              "      <td>90.0</td>\n",
              "      <td>0.99784</td>\n",
              "      <td>3.15</td>\n",
              "      <td>0.57</td>\n",
              "      <td>9.1</td>\n",
              "      <td>0</td>\n",
              "    </tr>\n",
              "    <tr>\n",
              "      <th>...</th>\n",
              "      <td>...</td>\n",
              "      <td>...</td>\n",
              "      <td>...</td>\n",
              "      <td>...</td>\n",
              "      <td>...</td>\n",
              "      <td>...</td>\n",
              "      <td>...</td>\n",
              "      <td>...</td>\n",
              "      <td>...</td>\n",
              "      <td>...</td>\n",
              "      <td>...</td>\n",
              "      <td>...</td>\n",
              "      <td>...</td>\n",
              "    </tr>\n",
              "    <tr>\n",
              "      <th>794</th>\n",
              "      <td>794</td>\n",
              "      <td>6.6</td>\n",
              "      <td>0.96</td>\n",
              "      <td>0.00</td>\n",
              "      <td>1.8</td>\n",
              "      <td>0.082</td>\n",
              "      <td>5.0</td>\n",
              "      <td>16.0</td>\n",
              "      <td>0.99360</td>\n",
              "      <td>3.50</td>\n",
              "      <td>0.44</td>\n",
              "      <td>11.9</td>\n",
              "      <td>1</td>\n",
              "    </tr>\n",
              "    <tr>\n",
              "      <th>795</th>\n",
              "      <td>795</td>\n",
              "      <td>7.5</td>\n",
              "      <td>0.58</td>\n",
              "      <td>0.56</td>\n",
              "      <td>3.1</td>\n",
              "      <td>0.153</td>\n",
              "      <td>5.0</td>\n",
              "      <td>14.0</td>\n",
              "      <td>0.99476</td>\n",
              "      <td>3.21</td>\n",
              "      <td>1.03</td>\n",
              "      <td>11.6</td>\n",
              "      <td>1</td>\n",
              "    </tr>\n",
              "    <tr>\n",
              "      <th>796</th>\n",
              "      <td>796</td>\n",
              "      <td>5.6</td>\n",
              "      <td>0.31</td>\n",
              "      <td>0.78</td>\n",
              "      <td>13.9</td>\n",
              "      <td>0.074</td>\n",
              "      <td>23.0</td>\n",
              "      <td>92.0</td>\n",
              "      <td>0.99677</td>\n",
              "      <td>3.39</td>\n",
              "      <td>0.48</td>\n",
              "      <td>10.5</td>\n",
              "      <td>1</td>\n",
              "    </tr>\n",
              "    <tr>\n",
              "      <th>797</th>\n",
              "      <td>797</td>\n",
              "      <td>8.4</td>\n",
              "      <td>0.62</td>\n",
              "      <td>0.12</td>\n",
              "      <td>1.8</td>\n",
              "      <td>0.072</td>\n",
              "      <td>38.0</td>\n",
              "      <td>46.0</td>\n",
              "      <td>0.99504</td>\n",
              "      <td>3.38</td>\n",
              "      <td>0.89</td>\n",
              "      <td>11.8</td>\n",
              "      <td>1</td>\n",
              "    </tr>\n",
              "    <tr>\n",
              "      <th>798</th>\n",
              "      <td>798</td>\n",
              "      <td>9.5</td>\n",
              "      <td>0.86</td>\n",
              "      <td>0.26</td>\n",
              "      <td>1.9</td>\n",
              "      <td>0.079</td>\n",
              "      <td>13.0</td>\n",
              "      <td>28.0</td>\n",
              "      <td>0.99712</td>\n",
              "      <td>3.25</td>\n",
              "      <td>0.62</td>\n",
              "      <td>10.0</td>\n",
              "      <td>0</td>\n",
              "    </tr>\n",
              "  </tbody>\n",
              "</table>\n",
              "<p>799 rows × 13 columns</p>\n",
              "</div>"
            ],
            "text/plain": [
              "      id  fixed acidity  volatile acidity  ...  sulphates  alcohol  quality\n",
              "0      0            8.5              0.40  ...       0.56     12.0        0\n",
              "1      1           11.5              0.18  ...       0.97     10.1        1\n",
              "2      2            8.2              0.34  ...       0.81     12.0        1\n",
              "3      3           10.7              0.43  ...       0.50      9.6        0\n",
              "4      4            7.6              0.42  ...       0.57      9.1        0\n",
              "..   ...            ...               ...  ...        ...      ...      ...\n",
              "794  794            6.6              0.96  ...       0.44     11.9        1\n",
              "795  795            7.5              0.58  ...       1.03     11.6        1\n",
              "796  796            5.6              0.31  ...       0.48     10.5        1\n",
              "797  797            8.4              0.62  ...       0.89     11.8        1\n",
              "798  798            9.5              0.86  ...       0.62     10.0        0\n",
              "\n",
              "[799 rows x 13 columns]"
            ]
          },
          "metadata": {
            "tags": []
          },
          "execution_count": 484
        }
      ]
    },
    {
      "cell_type": "markdown",
      "metadata": {
        "id": "KYDvuOKeYcTQ"
      },
      "source": [
        "### **Preprocessing Data**\n",
        "Dropping id column from the test data and training data and looking to see if theres any missing data segments. Since it return 0 for both sets of the test data frame and the training one we have no missing values."
      ]
    },
    {
      "cell_type": "markdown",
      "metadata": {
        "id": "n6yGBwz_fNNd"
      },
      "source": [
        "**Fufilled Requiments on this cell:**\n",
        "2. You must check for missing values within the training data.\n",
        "3. If the training data contains missing values, you must describe and implement an approach to handle those missing values."
      ]
    },
    {
      "cell_type": "code",
      "metadata": {
        "id": "9sWDxFCuYKIo",
        "colab": {
          "base_uri": "https://localhost:8080/"
        },
        "outputId": "eaad2a14-78f8-4d01-ff42-80ca5f7ea75e"
      },
      "source": [
        "trainDF = trainDF.drop('id', axis = 1)\n",
        "testDF = testDF.drop('id', axis = 1)\n",
        "testDF = testDF.drop('residual sugar', axis =1)\n",
        "testDF = testDF.drop('fixed acidity', axis =1)\n",
        "\n",
        "print(trainDF.isnull().sum().sum())\n",
        "print(testDF.isnull().sum().sum())"
      ],
      "execution_count": null,
      "outputs": [
        {
          "output_type": "stream",
          "text": [
            "0\n",
            "0\n"
          ],
          "name": "stdout"
        }
      ]
    },
    {
      "cell_type": "markdown",
      "metadata": {
        "id": "90bbkJ29jy3Y"
      },
      "source": [
        "**Outliers**\n",
        "\n",
        "Here I looked at the box plots generated by the columns that seemed to have heavy outliers are residual sugar and fixed acidity. "
      ]
    },
    {
      "cell_type": "markdown",
      "metadata": {
        "id": "G1m_eQ_dpmo5"
      },
      "source": [
        "**Fufilled Requiments on this cell:**\n",
        "4. You must check for outliers within the training data."
      ]
    },
    {
      "cell_type": "code",
      "metadata": {
        "colab": {
          "base_uri": "https://localhost:8080/",
          "height": 961
        },
        "id": "2riZ9fyUg4ki",
        "outputId": "b2762036-c437-4c9a-b188-51d7c5d59c9a"
      },
      "source": [
        "trainDF.loc[:, trainDF.columns[trainDF.max()<=100].to_list()].boxplot(figsize=(20,15),rot =90)"
      ],
      "execution_count": null,
      "outputs": [
        {
          "output_type": "execute_result",
          "data": {
            "text/plain": [
              "<matplotlib.axes._subplots.AxesSubplot at 0x7f62ad647350>"
            ]
          },
          "metadata": {
            "tags": []
          },
          "execution_count": 486
        },
        {
          "output_type": "display_data",
          "data": {
            "image/png": "[encoded data removed]",
            "text/plain": [
              "<Figure size 1440x1080 with 1 Axes>"
            ]
          },
          "metadata": {
            "tags": [],
            "needs_background": "light"
          }
        }
      ]
    },
    {
      "cell_type": "markdown",
      "metadata": {
        "id": "tdhrHFsGX4ZW"
      },
      "source": [
        "Assigning the training values, X_train for the parameters and y_train for the target vector. and then preproccessing the training data to be scaled. Also I set it the standard scaler because KNN is senestive to outliers, so scaling it will put in a certain range that won't mess up the whole model. Along with this I dropped the two columns that had a heavy amount of outliers on the training set."
      ]
    },
    {
      "cell_type": "markdown",
      "metadata": {
        "id": "vyCHnxyYgDEU"
      },
      "source": [
        "**Fufilled Requiments on this cell:**\n",
        "5. If the training data contains outliers, you must describe and implement an approach to handle those outliers.\n",
        "6. You must determine whether or not you will implement normalization or standardization, and explain your decision."
      ]
    },
    {
      "cell_type": "code",
      "metadata": {
        "id": "WS8W1Mc6CA2i"
      },
      "source": [
        "y = trainDF['quality']\n",
        "X = trainDF.drop('quality',axis = 1)\n",
        "X = X.drop('residual sugar',axis = 1)\n",
        "X = X.drop('fixed acidity', axis =1)\n",
        "\n",
        "sc = StandardScaler()\n",
        "X = sc.fit_transform(X)\n",
        "\n",
        "X_train, X_test, y_train, y_test = train_test_split( X, y, test_size = 0.2, stratify = y )\n",
        "\n",
        "X_train = preprocessing.scale(X_train)\n",
        "X_train = sc.fit_transform(X_train)"
      ],
      "execution_count": null,
      "outputs": []
    },
    {
      "cell_type": "markdown",
      "metadata": {
        "id": "3ppwmLELYLYl"
      },
      "source": [
        "###**K- nearest neighbors modeling**\n",
        "Training the KNN machine learning algorithm and checkign what the f1, accuracy and ROC AUC scores are."
      ]
    },
    {
      "cell_type": "markdown",
      "metadata": {
        "id": "fz8lTDJwRPfm"
      },
      "source": [
        "**Fufilled Requiments on this cell:**\n",
        "7. You must build and train a k-nearest neighbors model on the training data.\n",
        "8. You must report the best ROC AUC score, F1 score, and accuracy score that you were able to obtain form your model."
      ]
    },
    {
      "cell_type": "code",
      "metadata": {
        "id": "dIFLBhAIFwn0",
        "colab": {
          "base_uri": "https://localhost:8080/"
        },
        "outputId": "ae4bf842-7649-4f31-a558-6a655f42421a"
      },
      "source": [
        "neigh = KNeighborsClassifier(n_neighbors = 26, weights = 'distance', algorithm='kd_tree',leaf_size = 1)\n",
        "neigh.fit(X_train, y_train)\n",
        "\n",
        "y_predict = neigh.predict(X_test)\n",
        "\n",
        "print('F1_Score:',f1_score(y_test, y_predict), '\\nAccuracy Score:',accuracy_score(y_test,y_predict), '\\nROC_AUC Score: ',roc_auc_score(y_test,y_predict))"
      ],
      "execution_count": null,
      "outputs": [
        {
          "output_type": "stream",
          "text": [
            "F1_Score: 0.8255813953488372 \n",
            "Accuracy Score: 0.8125 \n",
            "ROC_AUC Score:  0.8114393463230672\n"
          ],
          "name": "stdout"
        }
      ]
    },
    {
      "cell_type": "markdown",
      "metadata": {
        "id": "e1BJB_oOOnn7"
      },
      "source": [
        "###**Searching for hyperparameters**\n",
        "I used a for loop to get the f1 scores of diffrent k neightbors to see which would give me the highest score in general. Of course from this graph I decduced that 12 is the best."
      ]
    },
    {
      "cell_type": "code",
      "metadata": {
        "colab": {
          "base_uri": "https://localhost:8080/",
          "height": 791
        },
        "id": "o_GrHJ-DuSM8",
        "outputId": "f9a7b5f5-cf7e-4469-9db4-ef0605186101"
      },
      "source": [
        "results = []\n",
        "\n",
        "for n in range(1, 30):\n",
        "   pipe = make_pipeline(StandardScaler(),KNeighborsClassifier(n_neighbors=n, weights='distance', algorithm='kd_tree',leaf_size = 1))\n",
        "   c_val = cross_val_score(pipe, X, y, cv=5, scoring='f1').mean()\n",
        "   results.append([n, c_val])\n",
        "\n",
        "results = pd.DataFrame(results, columns=[\"n\", \"f1\"])\n",
        "\n",
        "print(results)\n",
        "plt.plot(results.n, results.f1)\n",
        "plt.title(\"Accuracy with Increasing K\")\n",
        "plt.show()\n"
      ],
      "execution_count": null,
      "outputs": [
        {
          "output_type": "stream",
          "text": [
            "     n        f1\n",
            "0    1  0.756964\n",
            "1    2  0.756964\n",
            "2    3  0.762369\n",
            "3    4  0.760258\n",
            "4    5  0.772014\n",
            "5    6  0.774458\n",
            "6    7  0.784814\n",
            "7    8  0.776992\n",
            "8    9  0.788106\n",
            "9   10  0.789025\n",
            "10  11  0.782494\n",
            "11  12  0.790165\n",
            "12  13  0.787897\n",
            "13  14  0.792905\n",
            "14  15  0.784647\n",
            "15  16  0.781183\n",
            "16  17  0.786963\n",
            "17  18  0.792926\n",
            "18  19  0.787974\n",
            "19  20  0.790607\n",
            "20  21  0.796658\n",
            "21  22  0.798959\n",
            "22  23  0.799339\n",
            "23  24  0.797898\n",
            "24  25  0.799444\n",
            "25  26  0.803538\n",
            "26  27  0.803180\n",
            "27  28  0.800893\n",
            "28  29  0.800471\n"
          ],
          "name": "stdout"
        },
        {
          "output_type": "display_data",
          "data": {
            "image/png": "[encoded data removed]",
            "text/plain": [
              "<Figure size 432x288 with 1 Axes>"
            ]
          },
          "metadata": {
            "tags": [],
            "needs_background": "light"
          }
        }
      ]
    },
    {
      "cell_type": "markdown",
      "metadata": {
        "id": "T8mkGuUaPjBg"
      },
      "source": [
        "Further validating my use of 26 neighbors I found out with gridsearch that it is the best value, with a f1 of .803538"
      ]
    },
    {
      "cell_type": "code",
      "metadata": {
        "id": "c9Sn2aLAPoO4",
        "colab": {
          "base_uri": "https://localhost:8080/"
        },
        "outputId": "60db24d6-ae3c-4707-81a8-04998c7b8b78"
      },
      "source": [
        "params_dt = {'n_neighbors': [25,26],\n",
        "             'weights':['uniform','distance'],\n",
        "             'leaf_size':[1,2,3]\n",
        "             }\n",
        "grid_dt = GridSearchCV(estimator=neigh,param_grid = params_dt, scoring = 'f1', cv = 5, n_jobs = -1 )\n",
        "grid_dt.fit(X_train, y_train)\n",
        "\n",
        "\n",
        "best_hyperparams = grid_dt.best_estimator_\n",
        "print('Best Hyperparams:', best_hyperparams)\n",
        "\n",
        "best_hyperparams = grid_dt.best_score_\n",
        "print('Best Score:', best_hyperparams)\n"
      ],
      "execution_count": null,
      "outputs": [
        {
          "output_type": "stream",
          "text": [
            "Best Hyperparams: KNeighborsClassifier(algorithm='kd_tree', leaf_size=1, metric='minkowski',\n",
            "                     metric_params=None, n_jobs=None, n_neighbors=26, p=2,\n",
            "                     weights='distance')\n",
            "Best Score: 0.7965245227314193\n"
          ],
          "name": "stdout"
        }
      ]
    },
    {
      "cell_type": "markdown",
      "metadata": {
        "id": "WPqm9mFNQD61"
      },
      "source": [
        "###**Predicting the target vector**\n",
        "preproccessing to scale what I am going to make my estimation of and then predicting what will be the output of the test file."
      ]
    },
    {
      "cell_type": "markdown",
      "metadata": {
        "id": "NyDWbbL6RlEx"
      },
      "source": [
        "**Fufilled Requiments on this cell:**\n",
        "9. You must predict the target vector for the test data (from test.csv) using your model.\n",
        "10. Your notebook must be saved with the output enabled so that we can see the results of each cell after it has been run."
      ]
    },
    {
      "cell_type": "code",
      "metadata": {
        "id": "2EFU82U7MgSE"
      },
      "source": [
        "testDF = preprocessing.scale(testDF)\n",
        "y_predict = neigh.predict(testDF)\n",
        "\n",
        "submission = pd.DataFrame({\"quality\": y_predict})\n",
        "submission.to_csv('submission.csv', index =True, index_label = 'id')"
      ],
      "execution_count": null,
      "outputs": []
    }
  ]
}